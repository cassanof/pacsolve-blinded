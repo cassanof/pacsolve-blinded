{
 "cells": [
  {
   "cell_type": "code",
   "execution_count": 2,
   "metadata": {},
   "outputs": [],
   "source": [
    "from results_loader import load_data\n",
    "import matplotlib.pyplot as plt\n",
    "import numpy as np"
   ]
  },
  {
   "cell_type": "code",
   "execution_count": 3,
   "metadata": {},
   "outputs": [],
   "source": [
    "# Reset_index makes a column called \"index\" with the column index\n",
    "df = load_data('nontesting_most_downloads').reset_index()"
   ]
  },
  {
   "cell_type": "code",
   "execution_count": 4,
   "metadata": {},
   "outputs": [],
   "source": [
    "def maybe_dictionary_len(d):\n",
    "    if d != None:\n",
    "        num_non_link = 0\n",
    "        for k in d:\n",
    "            dep_data = d[k]\n",
    "            if not (\"link\" in dep_data and dep_data[\"link\"]):\n",
    "                num_non_link = num_non_link + 1\n",
    "        return num_non_link\n",
    "    else:\n",
    "        return np.nan\n",
    "        \n",
    "df['npm_number_deps'] = df['npm solve'].apply(maybe_dictionary_len)\n",
    "df['rosette_number_deps'] = df['rosette solve'].apply(maybe_dictionary_len)"
   ]
  },
  {
   "cell_type": "code",
   "execution_count": 5,
   "metadata": {},
   "outputs": [],
   "source": [
    "df['ratio_num_deps'] = df['rosette_number_deps']/df['npm_number_deps']"
   ]
  },
  {
   "cell_type": "code",
   "execution_count": 6,
   "metadata": {},
   "outputs": [],
   "source": [
    "df['ratio'] = df['rosette time'] / df['npm time']"
   ]
  },
  {
   "cell_type": "code",
   "execution_count": 7,
   "metadata": {},
   "outputs": [
    {
     "data": {
      "text/html": [
       "<div>\n",
       "<style scoped>\n",
       "    .dataframe tbody tr th:only-of-type {\n",
       "        vertical-align: middle;\n",
       "    }\n",
       "\n",
       "    .dataframe tbody tr th {\n",
       "        vertical-align: top;\n",
       "    }\n",
       "\n",
       "    .dataframe thead th {\n",
       "        text-align: right;\n",
       "    }\n",
       "</style>\n",
       "<table border=\"1\" class=\"dataframe\">\n",
       "  <thead>\n",
       "    <tr style=\"text-align: right;\">\n",
       "      <th></th>\n",
       "      <th>index</th>\n",
       "      <th>project_name</th>\n",
       "      <th>npm success</th>\n",
       "      <th>npm time</th>\n",
       "      <th>npm solve</th>\n",
       "      <th>npm error</th>\n",
       "      <th>rosette success</th>\n",
       "      <th>rosette time</th>\n",
       "      <th>rosette solve</th>\n",
       "      <th>rosette error</th>\n",
       "      <th>npm_number_deps</th>\n",
       "      <th>rosette_number_deps</th>\n",
       "      <th>ratio_num_deps</th>\n",
       "      <th>ratio</th>\n",
       "    </tr>\n",
       "  </thead>\n",
       "  <tbody>\n",
       "    <tr>\n",
       "      <th>0</th>\n",
       "      <td>0</td>\n",
       "      <td>supports-color</td>\n",
       "      <td>True</td>\n",
       "      <td>17.038827</td>\n",
       "      <td>{'node_modules/has-flag': {'version': '5.0.1',...</td>\n",
       "      <td>None</td>\n",
       "      <td>True</td>\n",
       "      <td>2.670986</td>\n",
       "      <td>{'node_modules/has-flag': {'version': '5.0.0',...</td>\n",
       "      <td>None</td>\n",
       "      <td>1.0</td>\n",
       "      <td>1.0</td>\n",
       "      <td>1.0</td>\n",
       "      <td>0.156759</td>\n",
       "    </tr>\n",
       "    <tr>\n",
       "      <th>1</th>\n",
       "      <td>1</td>\n",
       "      <td>debug</td>\n",
       "      <td>True</td>\n",
       "      <td>16.933676</td>\n",
       "      <td>{'node_modules/ms': {'version': '2.1.2', 'reso...</td>\n",
       "      <td>None</td>\n",
       "      <td>True</td>\n",
       "      <td>2.351109</td>\n",
       "      <td>{'node_modules/ms': {'version': '2.1.2', 'inte...</td>\n",
       "      <td>None</td>\n",
       "      <td>1.0</td>\n",
       "      <td>1.0</td>\n",
       "      <td>1.0</td>\n",
       "      <td>0.138842</td>\n",
       "    </tr>\n",
       "    <tr>\n",
       "      <th>2</th>\n",
       "      <td>2</td>\n",
       "      <td>semver</td>\n",
       "      <td>True</td>\n",
       "      <td>4.659977</td>\n",
       "      <td>{'node_modules/lru-cache': {'version': '6.0.0'...</td>\n",
       "      <td>None</td>\n",
       "      <td>True</td>\n",
       "      <td>2.381426</td>\n",
       "      <td>{'node_modules/lru-cache': {'version': '6.0.0'...</td>\n",
       "      <td>None</td>\n",
       "      <td>2.0</td>\n",
       "      <td>2.0</td>\n",
       "      <td>1.0</td>\n",
       "      <td>0.511038</td>\n",
       "    </tr>\n",
       "    <tr>\n",
       "      <th>3</th>\n",
       "      <td>3</td>\n",
       "      <td>chalk</td>\n",
       "      <td>True</td>\n",
       "      <td>10.882163</td>\n",
       "      <td>{'node_modules/ansi-styles': {'version': '4.3....</td>\n",
       "      <td>None</td>\n",
       "      <td>True</td>\n",
       "      <td>3.595008</td>\n",
       "      <td>{'node_modules/ansi-styles': {'version': '4.1....</td>\n",
       "      <td>None</td>\n",
       "      <td>5.0</td>\n",
       "      <td>5.0</td>\n",
       "      <td>1.0</td>\n",
       "      <td>0.330358</td>\n",
       "    </tr>\n",
       "    <tr>\n",
       "      <th>4</th>\n",
       "      <td>4</td>\n",
       "      <td>ms</td>\n",
       "      <td>True</td>\n",
       "      <td>4.156216</td>\n",
       "      <td>{}</td>\n",
       "      <td>None</td>\n",
       "      <td>True</td>\n",
       "      <td>2.125782</td>\n",
       "      <td>{}</td>\n",
       "      <td>None</td>\n",
       "      <td>0.0</td>\n",
       "      <td>0.0</td>\n",
       "      <td>NaN</td>\n",
       "      <td>0.511471</td>\n",
       "    </tr>\n",
       "    <tr>\n",
       "      <th>...</th>\n",
       "      <td>...</td>\n",
       "      <td>...</td>\n",
       "      <td>...</td>\n",
       "      <td>...</td>\n",
       "      <td>...</td>\n",
       "      <td>...</td>\n",
       "      <td>...</td>\n",
       "      <td>...</td>\n",
       "      <td>...</td>\n",
       "      <td>...</td>\n",
       "      <td>...</td>\n",
       "      <td>...</td>\n",
       "      <td>...</td>\n",
       "      <td>...</td>\n",
       "    </tr>\n",
       "    <tr>\n",
       "      <th>995</th>\n",
       "      <td>995</td>\n",
       "      <td>is-directory</td>\n",
       "      <td>True</td>\n",
       "      <td>2.906567</td>\n",
       "      <td>{}</td>\n",
       "      <td>None</td>\n",
       "      <td>True</td>\n",
       "      <td>2.175580</td>\n",
       "      <td>{}</td>\n",
       "      <td>None</td>\n",
       "      <td>0.0</td>\n",
       "      <td>0.0</td>\n",
       "      <td>NaN</td>\n",
       "      <td>0.748505</td>\n",
       "    </tr>\n",
       "    <tr>\n",
       "      <th>996</th>\n",
       "      <td>996</td>\n",
       "      <td>whatwg-fetch</td>\n",
       "      <td>True</td>\n",
       "      <td>6.489405</td>\n",
       "      <td>{}</td>\n",
       "      <td>None</td>\n",
       "      <td>True</td>\n",
       "      <td>2.130667</td>\n",
       "      <td>{}</td>\n",
       "      <td>None</td>\n",
       "      <td>0.0</td>\n",
       "      <td>0.0</td>\n",
       "      <td>NaN</td>\n",
       "      <td>0.328330</td>\n",
       "    </tr>\n",
       "    <tr>\n",
       "      <th>997</th>\n",
       "      <td>997</td>\n",
       "      <td>decimal.js</td>\n",
       "      <td>True</td>\n",
       "      <td>0.400362</td>\n",
       "      <td>{}</td>\n",
       "      <td>None</td>\n",
       "      <td>True</td>\n",
       "      <td>2.159171</td>\n",
       "      <td>{}</td>\n",
       "      <td>None</td>\n",
       "      <td>0.0</td>\n",
       "      <td>0.0</td>\n",
       "      <td>NaN</td>\n",
       "      <td>5.393040</td>\n",
       "    </tr>\n",
       "    <tr>\n",
       "      <th>998</th>\n",
       "      <td>998</td>\n",
       "      <td>lodash.merge</td>\n",
       "      <td>True</td>\n",
       "      <td>0.394715</td>\n",
       "      <td>{}</td>\n",
       "      <td>None</td>\n",
       "      <td>True</td>\n",
       "      <td>2.119727</td>\n",
       "      <td>{}</td>\n",
       "      <td>None</td>\n",
       "      <td>0.0</td>\n",
       "      <td>0.0</td>\n",
       "      <td>NaN</td>\n",
       "      <td>5.370275</td>\n",
       "    </tr>\n",
       "    <tr>\n",
       "      <th>999</th>\n",
       "      <td>999</td>\n",
       "      <td>clone-response</td>\n",
       "      <td>True</td>\n",
       "      <td>9.715984</td>\n",
       "      <td>{'node_modules/mimic-response': {'version': '1...</td>\n",
       "      <td>None</td>\n",
       "      <td>True</td>\n",
       "      <td>2.549335</td>\n",
       "      <td>{'node_modules/mimic-response': {'version': '1...</td>\n",
       "      <td>None</td>\n",
       "      <td>1.0</td>\n",
       "      <td>1.0</td>\n",
       "      <td>1.0</td>\n",
       "      <td>0.262386</td>\n",
       "    </tr>\n",
       "  </tbody>\n",
       "</table>\n",
       "<p>1000 rows × 14 columns</p>\n",
       "</div>"
      ],
      "text/plain": [
       "     index    project_name  npm success   npm time  \\\n",
       "0        0  supports-color         True  17.038827   \n",
       "1        1           debug         True  16.933676   \n",
       "2        2          semver         True   4.659977   \n",
       "3        3           chalk         True  10.882163   \n",
       "4        4              ms         True   4.156216   \n",
       "..     ...             ...          ...        ...   \n",
       "995    995    is-directory         True   2.906567   \n",
       "996    996    whatwg-fetch         True   6.489405   \n",
       "997    997      decimal.js         True   0.400362   \n",
       "998    998    lodash.merge         True   0.394715   \n",
       "999    999  clone-response         True   9.715984   \n",
       "\n",
       "                                             npm solve npm error  \\\n",
       "0    {'node_modules/has-flag': {'version': '5.0.1',...      None   \n",
       "1    {'node_modules/ms': {'version': '2.1.2', 'reso...      None   \n",
       "2    {'node_modules/lru-cache': {'version': '6.0.0'...      None   \n",
       "3    {'node_modules/ansi-styles': {'version': '4.3....      None   \n",
       "4                                                   {}      None   \n",
       "..                                                 ...       ...   \n",
       "995                                                 {}      None   \n",
       "996                                                 {}      None   \n",
       "997                                                 {}      None   \n",
       "998                                                 {}      None   \n",
       "999  {'node_modules/mimic-response': {'version': '1...      None   \n",
       "\n",
       "     rosette success  rosette time  \\\n",
       "0               True      2.670986   \n",
       "1               True      2.351109   \n",
       "2               True      2.381426   \n",
       "3               True      3.595008   \n",
       "4               True      2.125782   \n",
       "..               ...           ...   \n",
       "995             True      2.175580   \n",
       "996             True      2.130667   \n",
       "997             True      2.159171   \n",
       "998             True      2.119727   \n",
       "999             True      2.549335   \n",
       "\n",
       "                                         rosette solve rosette error  \\\n",
       "0    {'node_modules/has-flag': {'version': '5.0.0',...          None   \n",
       "1    {'node_modules/ms': {'version': '2.1.2', 'inte...          None   \n",
       "2    {'node_modules/lru-cache': {'version': '6.0.0'...          None   \n",
       "3    {'node_modules/ansi-styles': {'version': '4.1....          None   \n",
       "4                                                   {}          None   \n",
       "..                                                 ...           ...   \n",
       "995                                                 {}          None   \n",
       "996                                                 {}          None   \n",
       "997                                                 {}          None   \n",
       "998                                                 {}          None   \n",
       "999  {'node_modules/mimic-response': {'version': '1...          None   \n",
       "\n",
       "     npm_number_deps  rosette_number_deps  ratio_num_deps     ratio  \n",
       "0                1.0                  1.0             1.0  0.156759  \n",
       "1                1.0                  1.0             1.0  0.138842  \n",
       "2                2.0                  2.0             1.0  0.511038  \n",
       "3                5.0                  5.0             1.0  0.330358  \n",
       "4                0.0                  0.0             NaN  0.511471  \n",
       "..               ...                  ...             ...       ...  \n",
       "995              0.0                  0.0             NaN  0.748505  \n",
       "996              0.0                  0.0             NaN  0.328330  \n",
       "997              0.0                  0.0             NaN  5.393040  \n",
       "998              0.0                  0.0             NaN  5.370275  \n",
       "999              1.0                  1.0             1.0  0.262386  \n",
       "\n",
       "[1000 rows x 14 columns]"
      ]
     },
     "execution_count": 7,
     "metadata": {},
     "output_type": "execute_result"
    }
   ],
   "source": [
    "df"
   ]
  },
  {
   "cell_type": "code",
   "execution_count": 8,
   "metadata": {},
   "outputs": [
    {
     "data": {
      "image/png": "[encoded data removed]",
      "text/plain": [
       "<Figure size 432x288 with 1 Axes>"
      ]
     },
     "metadata": {
      "needs_background": "light"
     },
     "output_type": "display_data"
    }
   ],
   "source": [
    "plt.scatter(x=df['npm time'], y=df['rosette time'], marker='.')\n",
    "plt.xlabel('npm time') #x label\n",
    "plt.ylabel('rosette time') #y label\n",
    "plt.show()"
   ]
  },
  {
   "cell_type": "code",
   "execution_count": 9,
   "metadata": {},
   "outputs": [
    {
     "data": {
      "image/png": "[encoded data removed]",
      "text/plain": [
       "<Figure size 432x288 with 1 Axes>"
      ]
     },
     "metadata": {
      "needs_background": "light"
     },
     "output_type": "display_data"
    }
   ],
   "source": [
    "plt.scatter(x=df['npm time'], y=df['rosette time'], marker='.')\n",
    "plt.xlabel('npm time') #x label\n",
    "plt.ylabel('rosette time') #y label\n",
    "plt.ylim([0, 25])\n",
    "plt.xlim([0, 25])\n",
    "plt.show()"
   ]
  },
  {
   "cell_type": "code",
   "execution_count": 10,
   "metadata": {},
   "outputs": [
    {
     "data": {
      "image/png": "[encoded data removed]",
      "text/plain": [
       "<Figure size 432x288 with 1 Axes>"
      ]
     },
     "metadata": {
      "needs_background": "light"
     },
     "output_type": "display_data"
    }
   ],
   "source": [
    "plt.plot(np.sort(df['ratio']), np.arange(1, len(df)+1)/len(df))\n",
    "plt.show()"
   ]
  },
  {
   "cell_type": "code",
   "execution_count": 11,
   "metadata": {},
   "outputs": [
    {
     "data": {
      "image/png": "[encoded data removed]",
      "text/plain": [
       "<Figure size 432x288 with 1 Axes>"
      ]
     },
     "metadata": {
      "needs_background": "light"
     },
     "output_type": "display_data"
    }
   ],
   "source": [
    "non_outlier_ratio = df['ratio'][df['ratio'] < 10]\n",
    "\n",
    "plt.plot(np.sort(non_outlier_ratio), np.arange(1, len(non_outlier_ratio)+1)/len(non_outlier_ratio))\n",
    "plt.xlabel('rosette time / npm time')\n",
    "plt.ylabel('cumulative density')\n",
    "plt.show()"
   ]
  },
  {
   "cell_type": "code",
   "execution_count": 12,
   "metadata": {},
   "outputs": [
    {
     "data": {
      "image/png": "[encoded data removed]",
      "text/plain": [
       "<Figure size 432x288 with 1 Axes>"
      ]
     },
     "metadata": {
      "needs_background": "light"
     },
     "output_type": "display_data"
    }
   ],
   "source": [
    "plt.hist(non_outlier_ratio, bins=50)\n",
    "plt.xlabel('rosette time / npm time')\n",
    "plt.ylabel('count')\n",
    "plt.show()"
   ]
  },
  {
   "cell_type": "code",
   "execution_count": 13,
   "metadata": {},
   "outputs": [
    {
     "data": {
      "image/png": "[encoded data removed]",
      "text/plain": [
       "<Figure size 432x288 with 1 Axes>"
      ]
     },
     "metadata": {
      "needs_background": "light"
     },
     "output_type": "display_data"
    }
   ],
   "source": [
    "plt.hist(df['npm_number_deps'], bins=20)\n",
    "plt.xlabel('npm_number_deps');"
   ]
  },
  {
   "cell_type": "code",
   "execution_count": 14,
   "metadata": {},
   "outputs": [
    {
     "data": {
      "image/png": "[encoded data removed]",
      "text/plain": [
       "<Figure size 432x288 with 1 Axes>"
      ]
     },
     "metadata": {
      "needs_background": "light"
     },
     "output_type": "display_data"
    }
   ],
   "source": [
    "plt.scatter(x=df['npm_number_deps'], y=df['npm time'], marker='.')\n",
    "plt.xlabel('npm_number_deps') #x label\n",
    "plt.ylabel('npm time') #y label\n",
    "plt.show()"
   ]
  },
  {
   "cell_type": "code",
   "execution_count": 15,
   "metadata": {},
   "outputs": [
    {
     "data": {
      "image/png": "[encoded data removed]",
      "text/plain": [
       "<Figure size 432x288 with 1 Axes>"
      ]
     },
     "metadata": {
      "needs_background": "light"
     },
     "output_type": "display_data"
    }
   ],
   "source": [
    "plt.scatter(x=df['rosette_number_deps'], y=df['rosette time'], marker='.')\n",
    "plt.xlabel('rosette_number_deps') #x label\n",
    "plt.ylabel('rosette time') #y label\n",
    "plt.xlim([0, 100])\n",
    "plt.ylim([0, 20])\n",
    "plt.show()"
   ]
  },
  {
   "cell_type": "code",
   "execution_count": 16,
   "metadata": {},
   "outputs": [
    {
     "data": {
      "image/png": "[encoded data removed]",
      "text/plain": [
       "<Figure size 432x288 with 1 Axes>"
      ]
     },
     "metadata": {
      "needs_background": "light"
     },
     "output_type": "display_data"
    }
   ],
   "source": [
    "plt.scatter(x=df['npm_number_deps'], y=df['rosette_number_deps'], marker='.')\n",
    "plt.plot([0, 100], [0, 100], color='r')\n",
    "plt.xlabel('npm_number_deps') #x label\n",
    "plt.ylabel('rosette_number_deps') #y label\n",
    "plt.xlim([0, 100])\n",
    "plt.ylim([0, 100])\n",
    "plt.show()"
   ]
  },
  {
   "cell_type": "code",
   "execution_count": 17,
   "metadata": {},
   "outputs": [
    {
     "data": {
      "image/png": "[encoded data removed]",
      "text/plain": [
       "<Figure size 432x288 with 1 Axes>"
      ]
     },
     "metadata": {
      "needs_background": "light"
     },
     "output_type": "display_data"
    }
   ],
   "source": [
    "plt.plot(np.sort(df['ratio_num_deps']), np.arange(1, len(df['ratio_num_deps'])+1)/len(df['ratio_num_deps']))\n",
    "plt.xlabel('rosette deps / npm deps')\n",
    "plt.show()"
   ]
  },
  {
   "cell_type": "code",
   "execution_count": 18,
   "metadata": {},
   "outputs": [
    {
     "data": {
      "text/html": [
       "<div>\n",
       "<style scoped>\n",
       "    .dataframe tbody tr th:only-of-type {\n",
       "        vertical-align: middle;\n",
       "    }\n",
       "\n",
       "    .dataframe tbody tr th {\n",
       "        vertical-align: top;\n",
       "    }\n",
       "\n",
       "    .dataframe thead th {\n",
       "        text-align: right;\n",
       "    }\n",
       "</style>\n",
       "<table border=\"1\" class=\"dataframe\">\n",
       "  <thead>\n",
       "    <tr style=\"text-align: right;\">\n",
       "      <th></th>\n",
       "      <th>index</th>\n",
       "      <th>project_name</th>\n",
       "      <th>npm success</th>\n",
       "      <th>npm time</th>\n",
       "      <th>npm solve</th>\n",
       "      <th>npm error</th>\n",
       "      <th>rosette success</th>\n",
       "      <th>rosette time</th>\n",
       "      <th>rosette solve</th>\n",
       "      <th>rosette error</th>\n",
       "      <th>npm_number_deps</th>\n",
       "      <th>rosette_number_deps</th>\n",
       "      <th>ratio_num_deps</th>\n",
       "      <th>ratio</th>\n",
       "    </tr>\n",
       "  </thead>\n",
       "  <tbody>\n",
       "    <tr>\n",
       "      <th>50</th>\n",
       "      <td>50</td>\n",
       "      <td>fs-extra</td>\n",
       "      <td>True</td>\n",
       "      <td>8.549419</td>\n",
       "      <td>{'node_modules/graceful-fs': {'version': '4.2....</td>\n",
       "      <td>None</td>\n",
       "      <td>False</td>\n",
       "      <td>2.184626</td>\n",
       "      <td>None</td>\n",
       "      <td>{'stage': 'install', 'command': 'npm install -...</td>\n",
       "      <td>3.0</td>\n",
       "      <td>NaN</td>\n",
       "      <td>NaN</td>\n",
       "      <td>0.255529</td>\n",
       "    </tr>\n",
       "    <tr>\n",
       "      <th>280</th>\n",
       "      <td>280</td>\n",
       "      <td>dom-serializer</td>\n",
       "      <td>True</td>\n",
       "      <td>4.732515</td>\n",
       "      <td>{'node_modules/domelementtype': {'version': '2...</td>\n",
       "      <td>None</td>\n",
       "      <td>False</td>\n",
       "      <td>2.176780</td>\n",
       "      <td>None</td>\n",
       "      <td>{'stage': 'install', 'command': 'npm install -...</td>\n",
       "      <td>3.0</td>\n",
       "      <td>NaN</td>\n",
       "      <td>NaN</td>\n",
       "      <td>0.459963</td>\n",
       "    </tr>\n",
       "    <tr>\n",
       "      <th>295</th>\n",
       "      <td>295</td>\n",
       "      <td>terser</td>\n",
       "      <td>True</td>\n",
       "      <td>4.052353</td>\n",
       "      <td>{'node_modules/buffer-from': {'version': '1.1....</td>\n",
       "      <td>None</td>\n",
       "      <td>False</td>\n",
       "      <td>2.201325</td>\n",
       "      <td>None</td>\n",
       "      <td>{'stage': 'install', 'command': 'npm install -...</td>\n",
       "      <td>5.0</td>\n",
       "      <td>NaN</td>\n",
       "      <td>NaN</td>\n",
       "      <td>0.543221</td>\n",
       "    </tr>\n",
       "    <tr>\n",
       "      <th>441</th>\n",
       "      <td>441</td>\n",
       "      <td>htmlparser2</td>\n",
       "      <td>True</td>\n",
       "      <td>3.553952</td>\n",
       "      <td>{'node_modules/dom-serializer': {'version': '1...</td>\n",
       "      <td>None</td>\n",
       "      <td>False</td>\n",
       "      <td>2.309703</td>\n",
       "      <td>None</td>\n",
       "      <td>{'stage': 'install', 'command': 'npm install -...</td>\n",
       "      <td>6.0</td>\n",
       "      <td>NaN</td>\n",
       "      <td>NaN</td>\n",
       "      <td>0.649897</td>\n",
       "    </tr>\n",
       "    <tr>\n",
       "      <th>482</th>\n",
       "      <td>482</td>\n",
       "      <td>unset-value</td>\n",
       "      <td>True</td>\n",
       "      <td>1.430401</td>\n",
       "      <td>{'node_modules/get-value': {'version': '3.0.1'...</td>\n",
       "      <td>None</td>\n",
       "      <td>False</td>\n",
       "      <td>2.180292</td>\n",
       "      <td>None</td>\n",
       "      <td>{'stage': 'install', 'command': 'npm install -...</td>\n",
       "      <td>6.0</td>\n",
       "      <td>NaN</td>\n",
       "      <td>NaN</td>\n",
       "      <td>1.524252</td>\n",
       "    </tr>\n",
       "    <tr>\n",
       "      <th>...</th>\n",
       "      <td>...</td>\n",
       "      <td>...</td>\n",
       "      <td>...</td>\n",
       "      <td>...</td>\n",
       "      <td>...</td>\n",
       "      <td>...</td>\n",
       "      <td>...</td>\n",
       "      <td>...</td>\n",
       "      <td>...</td>\n",
       "      <td>...</td>\n",
       "      <td>...</td>\n",
       "      <td>...</td>\n",
       "      <td>...</td>\n",
       "      <td>...</td>\n",
       "    </tr>\n",
       "    <tr>\n",
       "      <th>824</th>\n",
       "      <td>824</td>\n",
       "      <td>@jest/core</td>\n",
       "      <td>False</td>\n",
       "      <td>8.237689</td>\n",
       "      <td>None</td>\n",
       "      <td>{'stage': 'install', 'command': 'npm install -...</td>\n",
       "      <td>False</td>\n",
       "      <td>600.102435</td>\n",
       "      <td>None</td>\n",
       "      <td>{'stage': 'install timeout', 'command': 'npm i...</td>\n",
       "      <td>NaN</td>\n",
       "      <td>NaN</td>\n",
       "      <td>NaN</td>\n",
       "      <td>72.848392</td>\n",
       "    </tr>\n",
       "    <tr>\n",
       "      <th>834</th>\n",
       "      <td>834</td>\n",
       "      <td>saxes</td>\n",
       "      <td>False</td>\n",
       "      <td>9.331648</td>\n",
       "      <td>None</td>\n",
       "      <td>{'stage': 'install', 'command': 'npm install -...</td>\n",
       "      <td>True</td>\n",
       "      <td>2.556051</td>\n",
       "      <td>{'node_modules/xmlchars': {'version': '2.2.0',...</td>\n",
       "      <td>None</td>\n",
       "      <td>NaN</td>\n",
       "      <td>1.0</td>\n",
       "      <td>NaN</td>\n",
       "      <td>0.273912</td>\n",
       "    </tr>\n",
       "    <tr>\n",
       "      <th>894</th>\n",
       "      <td>894</td>\n",
       "      <td>date-fns</td>\n",
       "      <td>False</td>\n",
       "      <td>9.320607</td>\n",
       "      <td>None</td>\n",
       "      <td>{'stage': 'install', 'command': 'npm install -...</td>\n",
       "      <td>True</td>\n",
       "      <td>2.196286</td>\n",
       "      <td>{}</td>\n",
       "      <td>None</td>\n",
       "      <td>NaN</td>\n",
       "      <td>0.0</td>\n",
       "      <td>NaN</td>\n",
       "      <td>0.235638</td>\n",
       "    </tr>\n",
       "    <tr>\n",
       "      <th>981</th>\n",
       "      <td>981</td>\n",
       "      <td>@tootallnate/once</td>\n",
       "      <td>False</td>\n",
       "      <td>3.258787</td>\n",
       "      <td>None</td>\n",
       "      <td>{'stage': 'install', 'command': 'npm install -...</td>\n",
       "      <td>True</td>\n",
       "      <td>2.157504</td>\n",
       "      <td>{}</td>\n",
       "      <td>None</td>\n",
       "      <td>NaN</td>\n",
       "      <td>0.0</td>\n",
       "      <td>NaN</td>\n",
       "      <td>0.662057</td>\n",
       "    </tr>\n",
       "    <tr>\n",
       "      <th>984</th>\n",
       "      <td>984</td>\n",
       "      <td>ts-node</td>\n",
       "      <td>False</td>\n",
       "      <td>9.697476</td>\n",
       "      <td>None</td>\n",
       "      <td>{'stage': 'install', 'command': 'npm install -...</td>\n",
       "      <td>True</td>\n",
       "      <td>2.945591</td>\n",
       "      <td>{'node_modules/@cspotcode/source-map-support':...</td>\n",
       "      <td>None</td>\n",
       "      <td>NaN</td>\n",
       "      <td>13.0</td>\n",
       "      <td>NaN</td>\n",
       "      <td>0.303748</td>\n",
       "    </tr>\n",
       "  </tbody>\n",
       "</table>\n",
       "<p>78 rows × 14 columns</p>\n",
       "</div>"
      ],
      "text/plain": [
       "     index       project_name  npm success  npm time  \\\n",
       "50      50           fs-extra         True  8.549419   \n",
       "280    280     dom-serializer         True  4.732515   \n",
       "295    295             terser         True  4.052353   \n",
       "441    441        htmlparser2         True  3.553952   \n",
       "482    482        unset-value         True  1.430401   \n",
       "..     ...                ...          ...       ...   \n",
       "824    824         @jest/core        False  8.237689   \n",
       "834    834              saxes        False  9.331648   \n",
       "894    894           date-fns        False  9.320607   \n",
       "981    981  @tootallnate/once        False  3.258787   \n",
       "984    984            ts-node        False  9.697476   \n",
       "\n",
       "                                             npm solve  \\\n",
       "50   {'node_modules/graceful-fs': {'version': '4.2....   \n",
       "280  {'node_modules/domelementtype': {'version': '2...   \n",
       "295  {'node_modules/buffer-from': {'version': '1.1....   \n",
       "441  {'node_modules/dom-serializer': {'version': '1...   \n",
       "482  {'node_modules/get-value': {'version': '3.0.1'...   \n",
       "..                                                 ...   \n",
       "824                                               None   \n",
       "834                                               None   \n",
       "894                                               None   \n",
       "981                                               None   \n",
       "984                                               None   \n",
       "\n",
       "                                             npm error  rosette success  \\\n",
       "50                                                None            False   \n",
       "280                                               None            False   \n",
       "295                                               None            False   \n",
       "441                                               None            False   \n",
       "482                                               None            False   \n",
       "..                                                 ...              ...   \n",
       "824  {'stage': 'install', 'command': 'npm install -...            False   \n",
       "834  {'stage': 'install', 'command': 'npm install -...             True   \n",
       "894  {'stage': 'install', 'command': 'npm install -...             True   \n",
       "981  {'stage': 'install', 'command': 'npm install -...             True   \n",
       "984  {'stage': 'install', 'command': 'npm install -...             True   \n",
       "\n",
       "     rosette time                                      rosette solve  \\\n",
       "50       2.184626                                               None   \n",
       "280      2.176780                                               None   \n",
       "295      2.201325                                               None   \n",
       "441      2.309703                                               None   \n",
       "482      2.180292                                               None   \n",
       "..            ...                                                ...   \n",
       "824    600.102435                                               None   \n",
       "834      2.556051  {'node_modules/xmlchars': {'version': '2.2.0',...   \n",
       "894      2.196286                                                 {}   \n",
       "981      2.157504                                                 {}   \n",
       "984      2.945591  {'node_modules/@cspotcode/source-map-support':...   \n",
       "\n",
       "                                         rosette error  npm_number_deps  \\\n",
       "50   {'stage': 'install', 'command': 'npm install -...              3.0   \n",
       "280  {'stage': 'install', 'command': 'npm install -...              3.0   \n",
       "295  {'stage': 'install', 'command': 'npm install -...              5.0   \n",
       "441  {'stage': 'install', 'command': 'npm install -...              6.0   \n",
       "482  {'stage': 'install', 'command': 'npm install -...              6.0   \n",
       "..                                                 ...              ...   \n",
       "824  {'stage': 'install timeout', 'command': 'npm i...              NaN   \n",
       "834                                               None              NaN   \n",
       "894                                               None              NaN   \n",
       "981                                               None              NaN   \n",
       "984                                               None              NaN   \n",
       "\n",
       "     rosette_number_deps  ratio_num_deps      ratio  \n",
       "50                   NaN             NaN   0.255529  \n",
       "280                  NaN             NaN   0.459963  \n",
       "295                  NaN             NaN   0.543221  \n",
       "441                  NaN             NaN   0.649897  \n",
       "482                  NaN             NaN   1.524252  \n",
       "..                   ...             ...        ...  \n",
       "824                  NaN             NaN  72.848392  \n",
       "834                  1.0             NaN   0.273912  \n",
       "894                  0.0             NaN   0.235638  \n",
       "981                  0.0             NaN   0.662057  \n",
       "984                 13.0             NaN   0.303748  \n",
       "\n",
       "[78 rows x 14 columns]"
      ]
     },
     "execution_count": 18,
     "metadata": {},
     "output_type": "execute_result"
    }
   ],
   "source": [
    "df[(df['rosette success'] == True) & df['npm success'] == False].sort_values('npm_number_deps')"
   ]
  },
  {
   "cell_type": "code",
   "execution_count": 19,
   "metadata": {},
   "outputs": [
    {
     "data": {
      "text/html": [
       "<div>\n",
       "<style scoped>\n",
       "    .dataframe tbody tr th:only-of-type {\n",
       "        vertical-align: middle;\n",
       "    }\n",
       "\n",
       "    .dataframe tbody tr th {\n",
       "        vertical-align: top;\n",
       "    }\n",
       "\n",
       "    .dataframe thead th {\n",
       "        text-align: right;\n",
       "    }\n",
       "</style>\n",
       "<table border=\"1\" class=\"dataframe\">\n",
       "  <thead>\n",
       "    <tr style=\"text-align: right;\">\n",
       "      <th></th>\n",
       "      <th>index</th>\n",
       "      <th>project_name</th>\n",
       "      <th>npm success</th>\n",
       "      <th>npm time</th>\n",
       "      <th>npm solve</th>\n",
       "      <th>npm error</th>\n",
       "      <th>rosette success</th>\n",
       "      <th>rosette time</th>\n",
       "      <th>rosette solve</th>\n",
       "      <th>rosette error</th>\n",
       "      <th>npm_number_deps</th>\n",
       "      <th>rosette_number_deps</th>\n",
       "      <th>ratio_num_deps</th>\n",
       "      <th>ratio</th>\n",
       "    </tr>\n",
       "  </thead>\n",
       "  <tbody>\n",
       "    <tr>\n",
       "      <th>55</th>\n",
       "      <td>55</td>\n",
       "      <td>@babel/code-frame</td>\n",
       "      <td>True</td>\n",
       "      <td>1.803643</td>\n",
       "      <td>{'node_modules/@babel/helper-validator-identif...</td>\n",
       "      <td>None</td>\n",
       "      <td>True</td>\n",
       "      <td>2.998597</td>\n",
       "      <td>{'node_modules/@babel/highlight': {'version': ...</td>\n",
       "      <td>None</td>\n",
       "      <td>10.0</td>\n",
       "      <td>9.0</td>\n",
       "      <td>0.900000</td>\n",
       "      <td>1.662523</td>\n",
       "    </tr>\n",
       "    <tr>\n",
       "      <th>61</th>\n",
       "      <td>61</td>\n",
       "      <td>parse-json</td>\n",
       "      <td>True</td>\n",
       "      <td>10.091618</td>\n",
       "      <td>{'node_modules/@babel/code-frame': {'version':...</td>\n",
       "      <td>None</td>\n",
       "      <td>True</td>\n",
       "      <td>3.885285</td>\n",
       "      <td>{'node_modules/@babel/code-frame': {'version':...</td>\n",
       "      <td>None</td>\n",
       "      <td>15.0</td>\n",
       "      <td>14.0</td>\n",
       "      <td>0.933333</td>\n",
       "      <td>0.385001</td>\n",
       "    </tr>\n",
       "    <tr>\n",
       "      <th>67</th>\n",
       "      <td>67</td>\n",
       "      <td>globby</td>\n",
       "      <td>True</td>\n",
       "      <td>12.752496</td>\n",
       "      <td>{'node_modules/@nodelib/fs.scandir': {'version...</td>\n",
       "      <td>None</td>\n",
       "      <td>True</td>\n",
       "      <td>3.979715</td>\n",
       "      <td>{'node_modules/array-union': {'version': '3.0....</td>\n",
       "      <td>None</td>\n",
       "      <td>23.0</td>\n",
       "      <td>22.0</td>\n",
       "      <td>0.956522</td>\n",
       "      <td>0.312073</td>\n",
       "    </tr>\n",
       "    <tr>\n",
       "      <th>117</th>\n",
       "      <td>117</td>\n",
       "      <td>@babel/highlight</td>\n",
       "      <td>True</td>\n",
       "      <td>1.389981</td>\n",
       "      <td>{'node_modules/@babel/helper-validator-identif...</td>\n",
       "      <td>None</td>\n",
       "      <td>True</td>\n",
       "      <td>2.631417</td>\n",
       "      <td>{'node_modules/@babel/helper-validator-identif...</td>\n",
       "      <td>None</td>\n",
       "      <td>9.0</td>\n",
       "      <td>8.0</td>\n",
       "      <td>0.888889</td>\n",
       "      <td>1.893131</td>\n",
       "    </tr>\n",
       "    <tr>\n",
       "      <th>126</th>\n",
       "      <td>126</td>\n",
       "      <td>@babel/traverse</td>\n",
       "      <td>True</td>\n",
       "      <td>3.349207</td>\n",
       "      <td>{'node_modules/@babel/code-frame': {'version':...</td>\n",
       "      <td>None</td>\n",
       "      <td>True</td>\n",
       "      <td>3.441616</td>\n",
       "      <td>{'node_modules/@babel/code-frame': {'version':...</td>\n",
       "      <td>None</td>\n",
       "      <td>25.0</td>\n",
       "      <td>24.0</td>\n",
       "      <td>0.960000</td>\n",
       "      <td>1.027591</td>\n",
       "    </tr>\n",
       "    <tr>\n",
       "      <th>...</th>\n",
       "      <td>...</td>\n",
       "      <td>...</td>\n",
       "      <td>...</td>\n",
       "      <td>...</td>\n",
       "      <td>...</td>\n",
       "      <td>...</td>\n",
       "      <td>...</td>\n",
       "      <td>...</td>\n",
       "      <td>...</td>\n",
       "      <td>...</td>\n",
       "      <td>...</td>\n",
       "      <td>...</td>\n",
       "      <td>...</td>\n",
       "      <td>...</td>\n",
       "    </tr>\n",
       "    <tr>\n",
       "      <th>964</th>\n",
       "      <td>964</td>\n",
       "      <td>@babel/plugin-transform-react-jsx</td>\n",
       "      <td>True</td>\n",
       "      <td>1.607240</td>\n",
       "      <td>{'node_modules/@babel/code-frame': {'version':...</td>\n",
       "      <td>None</td>\n",
       "      <td>True</td>\n",
       "      <td>2.762375</td>\n",
       "      <td>{'node_modules/@babel/helper-annotate-as-pure'...</td>\n",
       "      <td>None</td>\n",
       "      <td>55.0</td>\n",
       "      <td>7.0</td>\n",
       "      <td>0.127273</td>\n",
       "      <td>1.718707</td>\n",
       "    </tr>\n",
       "    <tr>\n",
       "      <th>965</th>\n",
       "      <td>965</td>\n",
       "      <td>stream-each</td>\n",
       "      <td>True</td>\n",
       "      <td>6.713148</td>\n",
       "      <td>{'node_modules/end-of-stream': {'version': '1....</td>\n",
       "      <td>None</td>\n",
       "      <td>True</td>\n",
       "      <td>2.645430</td>\n",
       "      <td>{'node_modules/end-of-stream': {'version': '1....</td>\n",
       "      <td>None</td>\n",
       "      <td>4.0</td>\n",
       "      <td>3.0</td>\n",
       "      <td>0.750000</td>\n",
       "      <td>0.394067</td>\n",
       "    </tr>\n",
       "    <tr>\n",
       "      <th>975</th>\n",
       "      <td>975</td>\n",
       "      <td>fs-write-stream-atomic</td>\n",
       "      <td>True</td>\n",
       "      <td>6.791186</td>\n",
       "      <td>{'node_modules/core-util-is': {'version': '1.0...</td>\n",
       "      <td>None</td>\n",
       "      <td>True</td>\n",
       "      <td>37.668774</td>\n",
       "      <td>{'node_modules/graceful-fs': {'version': '4.1....</td>\n",
       "      <td>None</td>\n",
       "      <td>11.0</td>\n",
       "      <td>4.0</td>\n",
       "      <td>0.363636</td>\n",
       "      <td>5.546715</td>\n",
       "    </tr>\n",
       "    <tr>\n",
       "      <th>985</th>\n",
       "      <td>985</td>\n",
       "      <td>sockjs-client</td>\n",
       "      <td>True</td>\n",
       "      <td>16.630833</td>\n",
       "      <td>{'node_modules/debug': {'version': '3.2.7', 'r...</td>\n",
       "      <td>None</td>\n",
       "      <td>True</td>\n",
       "      <td>2.777426</td>\n",
       "      <td>{'node_modules/debug': {'version': '3.2.6', 'i...</td>\n",
       "      <td>None</td>\n",
       "      <td>14.0</td>\n",
       "      <td>12.0</td>\n",
       "      <td>0.857143</td>\n",
       "      <td>0.167005</td>\n",
       "    </tr>\n",
       "    <tr>\n",
       "      <th>990</th>\n",
       "      <td>990</td>\n",
       "      <td>@babel/helper-define-polyfill-provider</td>\n",
       "      <td>True</td>\n",
       "      <td>6.339574</td>\n",
       "      <td>{'node_modules/@babel/code-frame': {'version':...</td>\n",
       "      <td>None</td>\n",
       "      <td>True</td>\n",
       "      <td>10.994184</td>\n",
       "      <td>{'node_modules/@babel/helper-compilation-targe...</td>\n",
       "      <td>None</td>\n",
       "      <td>56.0</td>\n",
       "      <td>39.0</td>\n",
       "      <td>0.696429</td>\n",
       "      <td>1.734215</td>\n",
       "    </tr>\n",
       "  </tbody>\n",
       "</table>\n",
       "<p>97 rows × 14 columns</p>\n",
       "</div>"
      ],
      "text/plain": [
       "     index                            project_name  npm success   npm time  \\\n",
       "55      55                       @babel/code-frame         True   1.803643   \n",
       "61      61                              parse-json         True  10.091618   \n",
       "67      67                                  globby         True  12.752496   \n",
       "117    117                        @babel/highlight         True   1.389981   \n",
       "126    126                         @babel/traverse         True   3.349207   \n",
       "..     ...                                     ...          ...        ...   \n",
       "964    964       @babel/plugin-transform-react-jsx         True   1.607240   \n",
       "965    965                             stream-each         True   6.713148   \n",
       "975    975                  fs-write-stream-atomic         True   6.791186   \n",
       "985    985                           sockjs-client         True  16.630833   \n",
       "990    990  @babel/helper-define-polyfill-provider         True   6.339574   \n",
       "\n",
       "                                             npm solve npm error  \\\n",
       "55   {'node_modules/@babel/helper-validator-identif...      None   \n",
       "61   {'node_modules/@babel/code-frame': {'version':...      None   \n",
       "67   {'node_modules/@nodelib/fs.scandir': {'version...      None   \n",
       "117  {'node_modules/@babel/helper-validator-identif...      None   \n",
       "126  {'node_modules/@babel/code-frame': {'version':...      None   \n",
       "..                                                 ...       ...   \n",
       "964  {'node_modules/@babel/code-frame': {'version':...      None   \n",
       "965  {'node_modules/end-of-stream': {'version': '1....      None   \n",
       "975  {'node_modules/core-util-is': {'version': '1.0...      None   \n",
       "985  {'node_modules/debug': {'version': '3.2.7', 'r...      None   \n",
       "990  {'node_modules/@babel/code-frame': {'version':...      None   \n",
       "\n",
       "     rosette success  rosette time  \\\n",
       "55              True      2.998597   \n",
       "61              True      3.885285   \n",
       "67              True      3.979715   \n",
       "117             True      2.631417   \n",
       "126             True      3.441616   \n",
       "..               ...           ...   \n",
       "964             True      2.762375   \n",
       "965             True      2.645430   \n",
       "975             True     37.668774   \n",
       "985             True      2.777426   \n",
       "990             True     10.994184   \n",
       "\n",
       "                                         rosette solve rosette error  \\\n",
       "55   {'node_modules/@babel/highlight': {'version': ...          None   \n",
       "61   {'node_modules/@babel/code-frame': {'version':...          None   \n",
       "67   {'node_modules/array-union': {'version': '3.0....          None   \n",
       "117  {'node_modules/@babel/helper-validator-identif...          None   \n",
       "126  {'node_modules/@babel/code-frame': {'version':...          None   \n",
       "..                                                 ...           ...   \n",
       "964  {'node_modules/@babel/helper-annotate-as-pure'...          None   \n",
       "965  {'node_modules/end-of-stream': {'version': '1....          None   \n",
       "975  {'node_modules/graceful-fs': {'version': '4.1....          None   \n",
       "985  {'node_modules/debug': {'version': '3.2.6', 'i...          None   \n",
       "990  {'node_modules/@babel/helper-compilation-targe...          None   \n",
       "\n",
       "     npm_number_deps  rosette_number_deps  ratio_num_deps     ratio  \n",
       "55              10.0                  9.0        0.900000  1.662523  \n",
       "61              15.0                 14.0        0.933333  0.385001  \n",
       "67              23.0                 22.0        0.956522  0.312073  \n",
       "117              9.0                  8.0        0.888889  1.893131  \n",
       "126             25.0                 24.0        0.960000  1.027591  \n",
       "..               ...                  ...             ...       ...  \n",
       "964             55.0                  7.0        0.127273  1.718707  \n",
       "965              4.0                  3.0        0.750000  0.394067  \n",
       "975             11.0                  4.0        0.363636  5.546715  \n",
       "985             14.0                 12.0        0.857143  0.167005  \n",
       "990             56.0                 39.0        0.696429  1.734215  \n",
       "\n",
       "[97 rows x 14 columns]"
      ]
     },
     "execution_count": 19,
     "metadata": {},
     "output_type": "execute_result"
    }
   ],
   "source": [
    "df[df['npm_number_deps'] > df['rosette_number_deps']]"
   ]
  },
  {
   "cell_type": "code",
   "execution_count": 20,
   "metadata": {},
   "outputs": [
    {
     "data": {
      "text/plain": [
       "(34, 14)"
      ]
     },
     "execution_count": 20,
     "metadata": {},
     "output_type": "execute_result"
    }
   ],
   "source": [
    "df[(df['npm success'] == False)].shape"
   ]
  },
  {
   "cell_type": "code",
   "execution_count": 21,
   "metadata": {},
   "outputs": [
    {
     "data": {
      "text/plain": [
       "24"
      ]
     },
     "execution_count": 21,
     "metadata": {},
     "output_type": "execute_result"
    }
   ],
   "source": [
    "(df['ratio'] > 10).sum()"
   ]
  },
  {
   "cell_type": "code",
   "execution_count": 22,
   "metadata": {},
   "outputs": [
    {
     "data": {
      "text/plain": [
       "334      0.075802\n",
       "293      0.075819\n",
       "45       0.086009\n",
       "875      0.087352\n",
       "910      0.089996\n",
       "          ...    \n",
       "763    160.956256\n",
       "736    164.756607\n",
       "818    166.076967\n",
       "976    216.256688\n",
       "668    544.692321\n",
       "Name: ratio, Length: 1000, dtype: float64"
      ]
     },
     "execution_count": 22,
     "metadata": {},
     "output_type": "execute_result"
    }
   ],
   "source": [
    "df['ratio'].sort_values()"
   ]
  },
  {
   "cell_type": "code",
   "execution_count": 23,
   "metadata": {},
   "outputs": [
    {
     "data": {
      "text/plain": [
       "97"
      ]
     },
     "execution_count": 23,
     "metadata": {},
     "output_type": "execute_result"
    }
   ],
   "source": [
    "(df['ratio_num_deps'] < 1).sum()"
   ]
  },
  {
   "cell_type": "code",
   "execution_count": 24,
   "metadata": {},
   "outputs": [
    {
     "data": {
      "text/plain": [
       "575"
      ]
     },
     "execution_count": 24,
     "metadata": {},
     "output_type": "execute_result"
    }
   ],
   "source": [
    "(df['npm_number_deps'] <= 1).sum()"
   ]
  },
  {
   "cell_type": "code",
   "execution_count": 25,
   "metadata": {},
   "outputs": [
    {
     "data": {
      "text/plain": [
       "877    0.039216\n",
       "687    0.039216\n",
       "624    0.039216\n",
       "521    0.039216\n",
       "592    0.039216\n",
       "         ...   \n",
       "994         NaN\n",
       "995         NaN\n",
       "996         NaN\n",
       "997         NaN\n",
       "998         NaN\n",
       "Name: ratio_num_deps, Length: 1000, dtype: float64"
      ]
     },
     "execution_count": 25,
     "metadata": {},
     "output_type": "execute_result"
    }
   ],
   "source": [
    "df['ratio_num_deps'].sort_values()"
   ]
  },
  {
   "cell_type": "code",
   "execution_count": null,
   "metadata": {},
   "outputs": [],
   "source": []
  }
 ],
 "metadata": {
  "interpreter": {
   "hash": "aee8b7b246df8f9039afb4144a1f6fd8d2ca17a180786b69acc140d282b71a49"
  },
  "kernelspec": {
   "display_name": "Python 3.9.7 64-bit",
   "name": "python3"
  },
  "language_info": {
   "codemirror_mode": {
    "name": "ipython",
    "version": 3
   },
   "file_extension": ".py",
   "mimetype": "text/x-python",
   "name": "python",
   "nbconvert_exporter": "python",
   "pygments_lexer": "ipython3",
   "version": "3.9.7"
  },
  "orig_nbformat": 4
 },
 "nbformat": 4,
 "nbformat_minor": 2
}
