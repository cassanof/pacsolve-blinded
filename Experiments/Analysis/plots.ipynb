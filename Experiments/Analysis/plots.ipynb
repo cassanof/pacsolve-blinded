{
 "cells": [
  {
   "cell_type": "code",
   "execution_count": 1,
   "metadata": {},
   "outputs": [],
   "source": [
    "from results_loader import load_data\n",
    "import matplotlib.pyplot as plt\n",
    "import numpy as np"
   ]
  },
  {
   "cell_type": "code",
   "execution_count": 2,
   "metadata": {},
   "outputs": [],
   "source": [
    "# Reset_index makes a column called \"index\" with the column index\n",
    "df = load_data('nontesting').reset_index()"
   ]
  },
  {
   "cell_type": "code",
   "execution_count": 3,
   "metadata": {},
   "outputs": [],
   "source": [
    "def maybe_dictionary_len(d):\n",
    "    if d != None:\n",
    "        num_non_link = 0\n",
    "        for k in d:\n",
    "            dep_data = d[k]\n",
    "            if not (\"link\" in dep_data and dep_data[\"link\"]):\n",
    "                num_non_link = num_non_link + 1\n",
    "        return num_non_link\n",
    "    else:\n",
    "        return np.nan\n",
    "        \n",
    "df['npm_number_deps'] = df['npm solve'].apply(maybe_dictionary_len)\n",
    "df['rosette_number_deps'] = df['rosette solve'].apply(maybe_dictionary_len)"
   ]
  },
  {
   "cell_type": "code",
   "execution_count": 4,
   "metadata": {},
   "outputs": [],
   "source": [
    "df['ratio_num_deps'] = df['rosette_number_deps']/df['npm_number_deps']"
   ]
  },
  {
   "cell_type": "code",
   "execution_count": 5,
   "metadata": {},
   "outputs": [],
   "source": [
    "df['ratio'] = df['rosette time'] / df['npm time']"
   ]
  },
  {
   "cell_type": "code",
   "execution_count": 6,
   "metadata": {},
   "outputs": [
    {
     "data": {
      "text/html": [
       "<div>\n",
       "<style scoped>\n",
       "    .dataframe tbody tr th:only-of-type {\n",
       "        vertical-align: middle;\n",
       "    }\n",
       "\n",
       "    .dataframe tbody tr th {\n",
       "        vertical-align: top;\n",
       "    }\n",
       "\n",
       "    .dataframe thead th {\n",
       "        text-align: right;\n",
       "    }\n",
       "</style>\n",
       "<table border=\"1\" class=\"dataframe\">\n",
       "  <thead>\n",
       "    <tr style=\"text-align: right;\">\n",
       "      <th></th>\n",
       "      <th>index</th>\n",
       "      <th>project_name</th>\n",
       "      <th>npm success</th>\n",
       "      <th>npm time</th>\n",
       "      <th>npm solve</th>\n",
       "      <th>npm error</th>\n",
       "      <th>rosette success</th>\n",
       "      <th>rosette time</th>\n",
       "      <th>rosette solve</th>\n",
       "      <th>rosette error</th>\n",
       "      <th>npm_number_deps</th>\n",
       "      <th>rosette_number_deps</th>\n",
       "      <th>ratio_num_deps</th>\n",
       "      <th>ratio</th>\n",
       "    </tr>\n",
       "  </thead>\n",
       "  <tbody>\n",
       "    <tr>\n",
       "      <th>0</th>\n",
       "      <td>0</td>\n",
       "      <td>supports-color</td>\n",
       "      <td>True</td>\n",
       "      <td>8.840439</td>\n",
       "      <td>{'node_modules/has-flag': {'version': '5.0.1',...</td>\n",
       "      <td>None</td>\n",
       "      <td>True</td>\n",
       "      <td>2.382267</td>\n",
       "      <td>{'node_modules/has-flag': {'version': '5.0.0',...</td>\n",
       "      <td>None</td>\n",
       "      <td>1.0</td>\n",
       "      <td>1.0</td>\n",
       "      <td>1.0</td>\n",
       "      <td>0.269474</td>\n",
       "    </tr>\n",
       "    <tr>\n",
       "      <th>1</th>\n",
       "      <td>1</td>\n",
       "      <td>debug</td>\n",
       "      <td>True</td>\n",
       "      <td>9.247350</td>\n",
       "      <td>{'node_modules/ms': {'version': '2.1.2', 'reso...</td>\n",
       "      <td>None</td>\n",
       "      <td>True</td>\n",
       "      <td>2.343069</td>\n",
       "      <td>{'node_modules/ms': {'version': '2.1.2', 'inte...</td>\n",
       "      <td>None</td>\n",
       "      <td>1.0</td>\n",
       "      <td>1.0</td>\n",
       "      <td>1.0</td>\n",
       "      <td>0.253377</td>\n",
       "    </tr>\n",
       "    <tr>\n",
       "      <th>2</th>\n",
       "      <td>2</td>\n",
       "      <td>semver</td>\n",
       "      <td>True</td>\n",
       "      <td>3.341806</td>\n",
       "      <td>{'node_modules/lru-cache': {'version': '6.0.0'...</td>\n",
       "      <td>None</td>\n",
       "      <td>True</td>\n",
       "      <td>2.364619</td>\n",
       "      <td>{'node_modules/lru-cache': {'version': '6.0.0'...</td>\n",
       "      <td>None</td>\n",
       "      <td>2.0</td>\n",
       "      <td>2.0</td>\n",
       "      <td>1.0</td>\n",
       "      <td>0.707587</td>\n",
       "    </tr>\n",
       "    <tr>\n",
       "      <th>3</th>\n",
       "      <td>3</td>\n",
       "      <td>chalk</td>\n",
       "      <td>True</td>\n",
       "      <td>9.310416</td>\n",
       "      <td>{'node_modules/ansi-styles': {'version': '4.3....</td>\n",
       "      <td>None</td>\n",
       "      <td>True</td>\n",
       "      <td>2.493104</td>\n",
       "      <td>{'node_modules/ansi-styles': {'version': '4.1....</td>\n",
       "      <td>None</td>\n",
       "      <td>5.0</td>\n",
       "      <td>5.0</td>\n",
       "      <td>1.0</td>\n",
       "      <td>0.267776</td>\n",
       "    </tr>\n",
       "    <tr>\n",
       "      <th>4</th>\n",
       "      <td>4</td>\n",
       "      <td>ms</td>\n",
       "      <td>True</td>\n",
       "      <td>2.577305</td>\n",
       "      <td>{}</td>\n",
       "      <td>None</td>\n",
       "      <td>True</td>\n",
       "      <td>2.137862</td>\n",
       "      <td>{}</td>\n",
       "      <td>None</td>\n",
       "      <td>0.0</td>\n",
       "      <td>0.0</td>\n",
       "      <td>NaN</td>\n",
       "      <td>0.829495</td>\n",
       "    </tr>\n",
       "    <tr>\n",
       "      <th>...</th>\n",
       "      <td>...</td>\n",
       "      <td>...</td>\n",
       "      <td>...</td>\n",
       "      <td>...</td>\n",
       "      <td>...</td>\n",
       "      <td>...</td>\n",
       "      <td>...</td>\n",
       "      <td>...</td>\n",
       "      <td>...</td>\n",
       "      <td>...</td>\n",
       "      <td>...</td>\n",
       "      <td>...</td>\n",
       "      <td>...</td>\n",
       "      <td>...</td>\n",
       "    </tr>\n",
       "    <tr>\n",
       "      <th>995</th>\n",
       "      <td>995</td>\n",
       "      <td>is-directory</td>\n",
       "      <td>True</td>\n",
       "      <td>3.481128</td>\n",
       "      <td>{}</td>\n",
       "      <td>None</td>\n",
       "      <td>True</td>\n",
       "      <td>2.414831</td>\n",
       "      <td>{}</td>\n",
       "      <td>None</td>\n",
       "      <td>0.0</td>\n",
       "      <td>0.0</td>\n",
       "      <td>NaN</td>\n",
       "      <td>0.693692</td>\n",
       "    </tr>\n",
       "    <tr>\n",
       "      <th>996</th>\n",
       "      <td>996</td>\n",
       "      <td>whatwg-fetch</td>\n",
       "      <td>True</td>\n",
       "      <td>9.195429</td>\n",
       "      <td>{}</td>\n",
       "      <td>None</td>\n",
       "      <td>True</td>\n",
       "      <td>2.465897</td>\n",
       "      <td>{}</td>\n",
       "      <td>None</td>\n",
       "      <td>0.0</td>\n",
       "      <td>0.0</td>\n",
       "      <td>NaN</td>\n",
       "      <td>0.268165</td>\n",
       "    </tr>\n",
       "    <tr>\n",
       "      <th>997</th>\n",
       "      <td>997</td>\n",
       "      <td>decimal.js</td>\n",
       "      <td>True</td>\n",
       "      <td>0.402953</td>\n",
       "      <td>{}</td>\n",
       "      <td>None</td>\n",
       "      <td>True</td>\n",
       "      <td>2.446546</td>\n",
       "      <td>{}</td>\n",
       "      <td>None</td>\n",
       "      <td>0.0</td>\n",
       "      <td>0.0</td>\n",
       "      <td>NaN</td>\n",
       "      <td>6.071548</td>\n",
       "    </tr>\n",
       "    <tr>\n",
       "      <th>998</th>\n",
       "      <td>998</td>\n",
       "      <td>lodash.merge</td>\n",
       "      <td>True</td>\n",
       "      <td>0.403490</td>\n",
       "      <td>{}</td>\n",
       "      <td>None</td>\n",
       "      <td>True</td>\n",
       "      <td>2.449112</td>\n",
       "      <td>{}</td>\n",
       "      <td>None</td>\n",
       "      <td>0.0</td>\n",
       "      <td>0.0</td>\n",
       "      <td>NaN</td>\n",
       "      <td>6.069827</td>\n",
       "    </tr>\n",
       "    <tr>\n",
       "      <th>999</th>\n",
       "      <td>999</td>\n",
       "      <td>clone-response</td>\n",
       "      <td>True</td>\n",
       "      <td>10.739774</td>\n",
       "      <td>{'node_modules/mimic-response': {'version': '1...</td>\n",
       "      <td>None</td>\n",
       "      <td>True</td>\n",
       "      <td>2.646145</td>\n",
       "      <td>{'node_modules/mimic-response': {'version': '1...</td>\n",
       "      <td>None</td>\n",
       "      <td>1.0</td>\n",
       "      <td>1.0</td>\n",
       "      <td>1.0</td>\n",
       "      <td>0.246387</td>\n",
       "    </tr>\n",
       "  </tbody>\n",
       "</table>\n",
       "<p>1000 rows × 14 columns</p>\n",
       "</div>"
      ],
      "text/plain": [
       "     index    project_name  npm success   npm time  \\\n",
       "0        0  supports-color         True   8.840439   \n",
       "1        1           debug         True   9.247350   \n",
       "2        2          semver         True   3.341806   \n",
       "3        3           chalk         True   9.310416   \n",
       "4        4              ms         True   2.577305   \n",
       "..     ...             ...          ...        ...   \n",
       "995    995    is-directory         True   3.481128   \n",
       "996    996    whatwg-fetch         True   9.195429   \n",
       "997    997      decimal.js         True   0.402953   \n",
       "998    998    lodash.merge         True   0.403490   \n",
       "999    999  clone-response         True  10.739774   \n",
       "\n",
       "                                             npm solve npm error  \\\n",
       "0    {'node_modules/has-flag': {'version': '5.0.1',...      None   \n",
       "1    {'node_modules/ms': {'version': '2.1.2', 'reso...      None   \n",
       "2    {'node_modules/lru-cache': {'version': '6.0.0'...      None   \n",
       "3    {'node_modules/ansi-styles': {'version': '4.3....      None   \n",
       "4                                                   {}      None   \n",
       "..                                                 ...       ...   \n",
       "995                                                 {}      None   \n",
       "996                                                 {}      None   \n",
       "997                                                 {}      None   \n",
       "998                                                 {}      None   \n",
       "999  {'node_modules/mimic-response': {'version': '1...      None   \n",
       "\n",
       "     rosette success  rosette time  \\\n",
       "0               True      2.382267   \n",
       "1               True      2.343069   \n",
       "2               True      2.364619   \n",
       "3               True      2.493104   \n",
       "4               True      2.137862   \n",
       "..               ...           ...   \n",
       "995             True      2.414831   \n",
       "996             True      2.465897   \n",
       "997             True      2.446546   \n",
       "998             True      2.449112   \n",
       "999             True      2.646145   \n",
       "\n",
       "                                         rosette solve rosette error  \\\n",
       "0    {'node_modules/has-flag': {'version': '5.0.0',...          None   \n",
       "1    {'node_modules/ms': {'version': '2.1.2', 'inte...          None   \n",
       "2    {'node_modules/lru-cache': {'version': '6.0.0'...          None   \n",
       "3    {'node_modules/ansi-styles': {'version': '4.1....          None   \n",
       "4                                                   {}          None   \n",
       "..                                                 ...           ...   \n",
       "995                                                 {}          None   \n",
       "996                                                 {}          None   \n",
       "997                                                 {}          None   \n",
       "998                                                 {}          None   \n",
       "999  {'node_modules/mimic-response': {'version': '1...          None   \n",
       "\n",
       "     npm_number_deps  rosette_number_deps  ratio_num_deps     ratio  \n",
       "0                1.0                  1.0             1.0  0.269474  \n",
       "1                1.0                  1.0             1.0  0.253377  \n",
       "2                2.0                  2.0             1.0  0.707587  \n",
       "3                5.0                  5.0             1.0  0.267776  \n",
       "4                0.0                  0.0             NaN  0.829495  \n",
       "..               ...                  ...             ...       ...  \n",
       "995              0.0                  0.0             NaN  0.693692  \n",
       "996              0.0                  0.0             NaN  0.268165  \n",
       "997              0.0                  0.0             NaN  6.071548  \n",
       "998              0.0                  0.0             NaN  6.069827  \n",
       "999              1.0                  1.0             1.0  0.246387  \n",
       "\n",
       "[1000 rows x 14 columns]"
      ]
     },
     "execution_count": 6,
     "metadata": {},
     "output_type": "execute_result"
    }
   ],
   "source": [
    "df"
   ]
  },
  {
   "cell_type": "code",
   "execution_count": 7,
   "metadata": {},
   "outputs": [
    {
     "data": {
      "image/png": "[encoded data removed]",
      "text/plain": [
       "<Figure size 432x288 with 1 Axes>"
      ]
     },
     "metadata": {
      "needs_background": "light"
     },
     "output_type": "display_data"
    }
   ],
   "source": [
    "plt.scatter(x=df['npm time'], y=df['rosette time'], marker='.')\n",
    "plt.xlabel('npm time') #x label\n",
    "plt.ylabel('rosette time') #y label\n",
    "plt.show()"
   ]
  },
  {
   "cell_type": "code",
   "execution_count": 8,
   "metadata": {},
   "outputs": [
    {
     "data": {
      "image/png": "[encoded data removed]",
      "text/plain": [
       "<Figure size 432x288 with 1 Axes>"
      ]
     },
     "metadata": {
      "needs_background": "light"
     },
     "output_type": "display_data"
    }
   ],
   "source": [
    "plt.scatter(x=df['npm time'], y=df['rosette time'], marker='.')\n",
    "plt.xlabel('npm time') #x label\n",
    "plt.ylabel('rosette time') #y label\n",
    "plt.ylim([0, 25])\n",
    "plt.xlim([0, 25])\n",
    "plt.show()"
   ]
  },
  {
   "cell_type": "code",
   "execution_count": 9,
   "metadata": {},
   "outputs": [
    {
     "data": {
      "image/png": "[encoded data removed]",
      "text/plain": [
       "<Figure size 432x288 with 1 Axes>"
      ]
     },
     "metadata": {
      "needs_background": "light"
     },
     "output_type": "display_data"
    }
   ],
   "source": [
    "plt.plot(np.sort(df['ratio']), np.arange(1, len(df)+1)/len(df))\n",
    "plt.show()"
   ]
  },
  {
   "cell_type": "code",
   "execution_count": 10,
   "metadata": {},
   "outputs": [
    {
     "data": {
      "image/png": "[encoded data removed]",
      "text/plain": [
       "<Figure size 432x288 with 1 Axes>"
      ]
     },
     "metadata": {
      "needs_background": "light"
     },
     "output_type": "display_data"
    }
   ],
   "source": [
    "non_outlier_ratio = df['ratio'][df['ratio'] < 10]\n",
    "\n",
    "plt.plot(np.sort(non_outlier_ratio), np.arange(1, len(non_outlier_ratio)+1)/len(non_outlier_ratio))\n",
    "plt.show()"
   ]
  },
  {
   "cell_type": "code",
   "execution_count": 11,
   "metadata": {},
   "outputs": [
    {
     "data": {
      "image/png": "[encoded data removed]",
      "text/plain": [
       "<Figure size 432x288 with 1 Axes>"
      ]
     },
     "metadata": {
      "needs_background": "light"
     },
     "output_type": "display_data"
    }
   ],
   "source": [
    "plt.hist(df['npm_number_deps'], bins=20)\n",
    "plt.xlabel('npm_number_deps');"
   ]
  },
  {
   "cell_type": "code",
   "execution_count": 12,
   "metadata": {},
   "outputs": [
    {
     "data": {
      "image/png": "[encoded data removed]",
      "text/plain": [
       "<Figure size 432x288 with 1 Axes>"
      ]
     },
     "metadata": {
      "needs_background": "light"
     },
     "output_type": "display_data"
    }
   ],
   "source": [
    "plt.scatter(x=df['npm_number_deps'], y=df['npm time'], marker='.')\n",
    "plt.xlabel('npm_number_deps') #x label\n",
    "plt.ylabel('npm time') #y label\n",
    "plt.show()"
   ]
  },
  {
   "cell_type": "code",
   "execution_count": 13,
   "metadata": {},
   "outputs": [
    {
     "data": {
      "image/png": "[encoded data removed]",
      "text/plain": [
       "<Figure size 432x288 with 1 Axes>"
      ]
     },
     "metadata": {
      "needs_background": "light"
     },
     "output_type": "display_data"
    }
   ],
   "source": [
    "plt.scatter(x=df['rosette_number_deps'], y=df['rosette time'], marker='.')\n",
    "plt.xlabel('rosette_number_deps') #x label\n",
    "plt.ylabel('rosette time') #y label\n",
    "plt.xlim([0, 100])\n",
    "plt.ylim([0, 20])\n",
    "plt.show()"
   ]
  },
  {
   "cell_type": "code",
   "execution_count": 14,
   "metadata": {},
   "outputs": [
    {
     "data": {
      "image/png": "[encoded data removed]",
      "text/plain": [
       "<Figure size 432x288 with 1 Axes>"
      ]
     },
     "metadata": {
      "needs_background": "light"
     },
     "output_type": "display_data"
    }
   ],
   "source": [
    "plt.scatter(x=df['npm_number_deps'], y=df['rosette_number_deps'], marker='.')\n",
    "plt.plot([0, 100], [0, 100], color='r')\n",
    "plt.xlabel('npm_number_deps') #x label\n",
    "plt.ylabel('rosette_number_deps') #y label\n",
    "plt.xlim([0, 100])\n",
    "plt.ylim([0, 100])\n",
    "plt.show()"
   ]
  },
  {
   "cell_type": "code",
   "execution_count": 15,
   "metadata": {},
   "outputs": [
    {
     "data": {
      "image/png": "[encoded data removed]",
      "text/plain": [
       "<Figure size 432x288 with 1 Axes>"
      ]
     },
     "metadata": {
      "needs_background": "light"
     },
     "output_type": "display_data"
    }
   ],
   "source": [
    "plt.plot(np.sort(df['ratio_num_deps']), np.arange(1, len(df['ratio_num_deps'])+1)/len(df['ratio_num_deps']))\n",
    "plt.xlabel('rosette deps / npm deps')\n",
    "plt.show()"
   ]
  },
  {
   "cell_type": "code",
   "execution_count": null,
   "metadata": {},
   "outputs": [],
   "source": []
  }
 ],
 "metadata": {
  "interpreter": {
   "hash": "aee8b7b246df8f9039afb4144a1f6fd8d2ca17a180786b69acc140d282b71a49"
  },
  "kernelspec": {
   "display_name": "Python 3.9.7 64-bit",
   "name": "python3"
  },
  "language_info": {
   "codemirror_mode": {
    "name": "ipython",
    "version": 3
   },
   "file_extension": ".py",
   "mimetype": "text/x-python",
   "name": "python",
   "nbconvert_exporter": "python",
   "pygments_lexer": "ipython3",
   "version": "3.9.7"
  },
  "orig_nbformat": 4
 },
 "nbformat": 4,
 "nbformat_minor": 2
}
